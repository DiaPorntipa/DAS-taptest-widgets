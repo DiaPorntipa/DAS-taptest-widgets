{
 "cells": [
  {
   "cell_type": "markdown",
   "id": "laughing-adolescent",
   "metadata": {},
   "source": [
    "# Geolocalization of DAS channels using GPS-tracked vehicle\n",
    "@Author: Ettore Biondi - ebiondi@caltech.edu\n",
    "\n",
    "This notebook shows how the latitude and longitude positions of a vehicle can be used to geolocate the channels of a distributed acoustic sensing (DAS) system that employs an onshore dark fiber."
   ]
  },
  {
   "cell_type": "code",
   "execution_count": 3,
   "id": "transsexual-general",
   "metadata": {},
   "outputs": [],
   "source": [
    "%matplotlib widget\n",
    "import sys\n",
    "sys.path.insert(0,\"../Python\")\n",
    "import TapTestWdgts\n",
    "import numpy as np\n",
    "import pandas as pd\n",
    "import os\n",
    "from scipy.interpolate import interp1d\n",
    "from scipy.signal import hilbert\n",
    "from tqdm import tqdm\n",
    "\n",
    "import matplotlib\n",
    "import matplotlib.pyplot as plt\n",
    "from mpl_toolkits.axes_grid1 import make_axes_locatable\n",
    "params = {\n",
    "    'image.interpolation': 'nearest',\n",
    "    'image.cmap': 'gray',\n",
    "    'savefig.dpi': 300,  # to adjust notebook inline plot size\n",
    "    'axes.labelsize': 12, # fontsize for x and y labels (was 10)\n",
    "    'axes.titlesize': 12,\n",
    "    'font.size': 12,\n",
    "    'legend.fontsize': 12,\n",
    "    'xtick.labelsize': 12,\n",
    "    'ytick.labelsize': 12,\n",
    "    'text.usetex':False\n",
    "}\n",
    "matplotlib.rcParams.update(params)"
   ]
  },
  {
   "cell_type": "markdown",
   "id": "selective-explanation",
   "metadata": {},
   "source": [
    "First, let's download the necessary data to run this tutorial."
   ]
  },
  {
   "cell_type": "code",
   "execution_count": 5,
   "id": "extended-cotton",
   "metadata": {},
   "outputs": [
    {
     "name": "stdout",
     "output_type": "stream",
     "text": [
      "--2022-09-09 18:52:43--  https://docs.google.com/uc?export=download&id=1H0b03u8oH4kivUJneL4Be4RX4lGEI8Dx\n",
      "Resolving docs.google.com (docs.google.com)... 2607:f8b0:4007:80f::200e, 142.251.40.46\n",
      "Connecting to docs.google.com (docs.google.com)|2607:f8b0:4007:80f::200e|:443... connected.\n",
      "HTTP request sent, awaiting response... 303 See Other\n",
      "Location: https://doc-0c-64-docs.googleusercontent.com/docs/securesc/ha0ro937gcuc7l7deffksulhg5h7mbp1/pijtfcosl54gkh2tu8shrh53jkt0a99i/1662774750000/07951556679918254622/*/1H0b03u8oH4kivUJneL4Be4RX4lGEI8Dx?e=download&uuid=6afb145a-c4d9-4dd0-9e67-ab66e79ff044 [following]\n",
      "Warning: wildcards not supported in HTTP.\n",
      "--2022-09-09 18:52:47--  https://doc-0c-64-docs.googleusercontent.com/docs/securesc/ha0ro937gcuc7l7deffksulhg5h7mbp1/pijtfcosl54gkh2tu8shrh53jkt0a99i/1662774750000/07951556679918254622/*/1H0b03u8oH4kivUJneL4Be4RX4lGEI8Dx?e=download&uuid=6afb145a-c4d9-4dd0-9e67-ab66e79ff044\n",
      "Resolving doc-0c-64-docs.googleusercontent.com (doc-0c-64-docs.googleusercontent.com)... 2607:f8b0:4007:813::2001, 142.250.68.97\n",
      "Connecting to doc-0c-64-docs.googleusercontent.com (doc-0c-64-docs.googleusercontent.com)|2607:f8b0:4007:813::2001|:443... connected.\n",
      "HTTP request sent, awaiting response... 200 OK\n",
      "Length: 20000506 (19M) [application/x-zip]\n",
      "Saving to: ‘../Dat/Event.npz’\n",
      "\n",
      "../Dat/Event.npz    100%[===================>]  19.07M  4.34MB/s    in 4.4s    \n",
      "\n",
      "2022-09-09 18:52:52 (4.34 MB/s) - ‘../Dat/Event.npz’ saved [20000506/20000506]\n",
      "\n",
      "--2022-09-09 18:52:52--  https://docs.google.com/uc?export=download&confirm=t&id=1lq0f5Y1pnufqzloBmXRL0dabNTh6Xdpo\n",
      "Resolving docs.google.com (docs.google.com)... 2607:f8b0:4007:80f::200e, 142.251.40.46\n",
      "Connecting to docs.google.com (docs.google.com)|2607:f8b0:4007:80f::200e|:443... connected.\n",
      "HTTP request sent, awaiting response... 303 See Other\n",
      "Location: https://doc-0s-64-docs.googleusercontent.com/docs/securesc/ha0ro937gcuc7l7deffksulhg5h7mbp1/r8em6an35g8ckmlav30964rmf1q3q1hj/1662774750000/07951556679918254622/*/1lq0f5Y1pnufqzloBmXRL0dabNTh6Xdpo?e=download&uuid=6806b582-5ab3-4e84-82a2-cbe62561cf17 [following]\n",
      "Warning: wildcards not supported in HTTP.\n",
      "--2022-09-09 18:52:53--  https://doc-0s-64-docs.googleusercontent.com/docs/securesc/ha0ro937gcuc7l7deffksulhg5h7mbp1/r8em6an35g8ckmlav30964rmf1q3q1hj/1662774750000/07951556679918254622/*/1lq0f5Y1pnufqzloBmXRL0dabNTh6Xdpo?e=download&uuid=6806b582-5ab3-4e84-82a2-cbe62561cf17\n",
      "Resolving doc-0s-64-docs.googleusercontent.com (doc-0s-64-docs.googleusercontent.com)... 2607:f8b0:4007:813::2001, 142.250.68.97\n",
      "Connecting to doc-0s-64-docs.googleusercontent.com (doc-0s-64-docs.googleusercontent.com)|2607:f8b0:4007:813::2001|:443... connected.\n",
      "HTTP request sent, awaiting response... 200 OK\n",
      "Length: 900219280 (859M) [application/x-zip]\n",
      "Saving to: ‘../Dat/Traffic.npz’\n",
      "\n",
      "../Dat/Traffic.npz  100%[===================>] 858.52M  4.96MB/s    in 4m 14s  \n",
      "\n",
      "2022-09-09 18:57:07 (3.38 MB/s) - ‘../Dat/Traffic.npz’ saved [900219280/900219280]\n",
      "\n",
      "--2022-09-09 18:57:07--  https://docs.google.com/uc?export=download&id=16DTe1Ovs0bbgUnudrXNoI2ci5Izv3wav\n",
      "Resolving docs.google.com (docs.google.com)... 2607:f8b0:4007:811::200e, 142.250.189.14\n",
      "Connecting to docs.google.com (docs.google.com)|2607:f8b0:4007:811::200e|:443... connected.\n",
      "HTTP request sent, awaiting response... 303 See Other\n",
      "Location: https://doc-0c-64-docs.googleusercontent.com/docs/securesc/ha0ro937gcuc7l7deffksulhg5h7mbp1/q2gmvbc0q8vfgq3et6k1jbv4ef1mcpru/1662774975000/07951556679918254622/*/16DTe1Ovs0bbgUnudrXNoI2ci5Izv3wav?e=download&uuid=61d8d9e8-9c51-454e-9043-161d69dd78f8 [following]\n",
      "Warning: wildcards not supported in HTTP.\n",
      "--2022-09-09 18:57:08--  https://doc-0c-64-docs.googleusercontent.com/docs/securesc/ha0ro937gcuc7l7deffksulhg5h7mbp1/q2gmvbc0q8vfgq3et6k1jbv4ef1mcpru/1662774975000/07951556679918254622/*/16DTe1Ovs0bbgUnudrXNoI2ci5Izv3wav?e=download&uuid=61d8d9e8-9c51-454e-9043-161d69dd78f8\n",
      "Resolving doc-0c-64-docs.googleusercontent.com (doc-0c-64-docs.googleusercontent.com)... 2607:f8b0:4007:815::2001, 142.250.68.33\n",
      "Connecting to doc-0c-64-docs.googleusercontent.com (doc-0c-64-docs.googleusercontent.com)|2607:f8b0:4007:815::2001|:443... connected.\n",
      "HTTP request sent, awaiting response... 200 OK\n",
      "Length: 600738 (587K) [application/x-zip]\n",
      "Saving to: ‘../Dat/FiberShortReg.npz’\n",
      "\n",
      "../Dat/FiberShortRe 100%[===================>] 586.66K  1.59MB/s    in 0.4s    \n",
      "\n",
      "2022-09-09 18:57:10 (1.59 MB/s) - ‘../Dat/FiberShortReg.npz’ saved [600738/600738]\n",
      "\n"
     ]
    }
   ],
   "source": [
    "!wget --no-check-certificate 'https://docs.google.com/uc?export=download&id=1H0b03u8oH4kivUJneL4Be4RX4lGEI8Dx' -O ../Dat/Event.npz\n",
    "!wget --load-cookies /tmp/cookies.txt \"https://docs.google.com/uc?export=download&confirm=$(wget --quiet --save-cookies /tmp/cookies.txt --keep-session-cookies --no-check-certificate 'https://docs.google.com/uc?export=download&id=1lq0f5Y1pnufqzloBmXRL0dabNTh6Xdpo' -O- | sed -rn 's/.*confirm=([0-9A-Za-z_]+).*/\\1\\n/p')&id=1lq0f5Y1pnufqzloBmXRL0dabNTh6Xdpo\" -O ../Dat/Traffic.npz && rm -rf /tmp/cookies.txt\n",
    "!wget --no-check-certificate 'https://docs.google.com/uc?export=download&id=16DTe1Ovs0bbgUnudrXNoI2ci5Izv3wav' -O ../Dat/FiberShortReg.npz"
   ]
  },
  {
   "cell_type": "markdown",
   "id": "bound-lightning",
   "metadata": {},
   "source": [
    "Let's load a recorded earthquake and use it to identify bad channels and fiber loops (or manhole)."
   ]
  },
  {
   "cell_type": "code",
   "execution_count": 6,
   "id": "impressed-adolescent",
   "metadata": {},
   "outputs": [],
   "source": [
    "with np.load(\"../Dat/Event.npz\") as dat:\n",
    "    dataEq = dat['data']\n",
    "    dt = dat['dt'].item()"
   ]
  },
  {
   "cell_type": "markdown",
   "id": "provincial-completion",
   "metadata": {},
   "source": [
    "Now we can start the interactive plots to easily identify the channels that we want to be removed from the data. The \"bad channels\" widget can be used to type the channel that are not recording useful seismic signal. The user has to provide a comma-separated list of channel numbers from 0 to the total number of channels (e.g., 0,1,2,3,...). It is also possible to provide an interval of channels by using two indices separated by a column (e.g., 0:3,10:32,...).\n",
    "For this specific system, the identified bad channels are the following: \n",
    "0:9,107:119,203:209,355:362,497:509,561:566,782:792,1010:1017,1212:1229,1259:1264,1496,1497,1631:1637,1698:1716,1938:1951,2148:2153,2443:2453,2540:2550,2692:2704,2892:2903,3065:3077,3174,3214:3221,3253:3259,3393:3401,3602:3616,3840:3849,3929:3943,3973:3983,4164:4179,4398:4413,4617:4635,4853:4862,1611,1613,4987:5000\n",
    "One can copy this list and paste it in the \"bad channels\" widget.\n",
    "The bottom widgets provide control on the visualized data. The interface should be intuitive. If non-valid values are set, an error message should appear below the widgets."
   ]
  },
  {
   "cell_type": "code",
   "execution_count": 7,
   "id": "graduate-mexican",
   "metadata": {},
   "outputs": [
    {
     "data": {
      "application/vnd.jupyter.widget-view+json": {
       "model_id": "b7c702c692bc417a9efe1590aca4d9ff",
       "version_major": 2,
       "version_minor": 0
      },
      "text/plain": [
       "badchnnlwdgt(children=(Output(), VBox(children=(HBox(children=(Textarea(value='', continuous_update=False, des…"
      ]
     },
     "metadata": {},
     "output_type": "display_data"
    }
   ],
   "source": [
    "badCh = TapTestWdgts.badchnnlwdgt(dataEq, dt)\n",
    "badCh"
   ]
  },
  {
   "cell_type": "markdown",
   "id": "anonymous-group",
   "metadata": {},
   "source": [
    "Let's now extract a mask to plot the data without the bad channels."
   ]
  },
  {
   "cell_type": "code",
   "execution_count": 8,
   "id": "common-greensboro",
   "metadata": {},
   "outputs": [],
   "source": [
    "mask_bad = np.ones(dataEq.shape[0], dtype=bool)\n",
    "mask_bad[badCh.bad_channels] = False\n",
    "data_good = dataEq[mask_bad]"
   ]
  },
  {
   "cell_type": "code",
   "execution_count": 9,
   "id": "corporate-doubt",
   "metadata": {},
   "outputs": [
    {
     "data": {
      "application/vnd.jupyter.widget-view+json": {
       "model_id": "e0e5986b655949ae9987c9aa9b13b299",
       "version_major": 2,
       "version_minor": 0
      },
      "text/plain": [
       "Canvas(toolbar=Toolbar(toolitems=[('Home', 'Reset original view', 'home', 'home'), ('Back', 'Back to previous …"
      ]
     },
     "metadata": {},
     "output_type": "display_data"
    }
   ],
   "source": [
    "# Plotting w/o loops and trace normalization\n",
    "data_norm = data_good.copy()\n",
    "# Plotting the two systems' data together\n",
    "fig, ax = plt.subplots(figsize=(10,6))\n",
    "# North system\n",
    "min_t = 6.0\n",
    "max_t = 17.0\n",
    "it_min = int((min_t)/dt+0.5)\n",
    "it_max = int((max_t)/dt+0.5)\n",
    "std_data = np.std(data_norm[:,it_min:it_max],axis=1)\n",
    "data_norm /= np.expand_dims(std_data,axis=1)\n",
    "clipVal = np.percentile(np.absolute(data_norm[:,it_min:it_max]), 95)\n",
    "ax.imshow(data_norm[:,it_min:it_max].T, \n",
    "           extent=[0, data_norm.shape[0], max_t, min_t],\n",
    "           aspect='auto', vmin=-clipVal, vmax=clipVal, cmap=plt.get_cmap('seismic'))\n",
    "ax.set_ylabel(\"Time [s]\")\n",
    "ax.set_xlabel(\"Channel number\")\n",
    "ax.grid()"
   ]
  },
  {
   "cell_type": "markdown",
   "id": "floppy-ozone",
   "metadata": {},
   "source": [
    "Now we can use the GPS points of the tracked vehicle used during the tap-test experiment to locate the DAS system channels. We start by loading the necessary data."
   ]
  },
  {
   "cell_type": "code",
   "execution_count": 10,
   "id": "conditional-stroke",
   "metadata": {},
   "outputs": [],
   "source": [
    "with np.load(\"../Dat/Traffic.npz\",allow_pickle=True) as dat:\n",
    "    dataTap = dat['data']\n",
    "    dt       = dat['dt'].item()\n",
    "    ot       = dat['ot'].item()\n",
    "    dCh      = dat['dCh'].item()\n",
    "    gps_lat  = dat['gps_lat']\n",
    "    gps_lon  = dat['gps_lon']\n",
    "    gps_time  = dat['gps_time']"
   ]
  },
  {
   "cell_type": "code",
   "execution_count": 11,
   "id": "8079aaf4",
   "metadata": {},
   "outputs": [],
   "source": [
    "# Loading fiber locations at 1 m spacing\n",
    "with np.load(\"../Dat/FiberShortReg.npz\",allow_pickle=True) as dat:\n",
    "    fiber_lat = dat['lat']\n",
    "    fiber_lon = dat['lon']\n",
    "    fiber_dist = dat['dist']\n",
    "\n",
    "# Let's map the car locations onto the closest fiber points    \n",
    "close_ch = TapTestWdgts.find_close_ch(gps_lat,gps_lon,fiber_lat,fiber_lon)\n",
    "fiber_dist_vehicle = fiber_dist[close_ch]"
   ]
  },
  {
   "cell_type": "markdown",
   "id": "realistic-potter",
   "metadata": {},
   "source": [
    "Now we have all the necessary inputs for proceeding with the geolocalization of the DAS channels of this system. Once the interactive plot is started, the first step is to copy the list of bad channels that we have identified before. Obviously, in this step, additional bad channels can be found and removed if necessary. To correctly calibrate the channel positions, one must uncheck the \"Show bad channel\" toggle switch.\n",
    "After this visual check, we need to align the red dashed line with the car-tracked generated signal. To provide an example of this process, change the display options to visualize the data between the channel numbers 500 and 1800 and the first 600 seconds. Now, apply a \"Tap-test shift\" of -46.4 and turn off and on the \"Show tap-test line\" switch to see the alignment of a signal with the calibration line. Thus, we can map with confidence that the displayed channels have been excited by the tracked-car movement. Change the min and max \"map ch\" slidebars to 500 and 1800, and hit map channels. You should be able to see the mapped channels in the top panel of the interactive plot.\n",
    "We can now proceed to other sections of the cable. \n",
    "\n",
    "The second section can be mapped with the following parameters: \n",
    "min channel=1800\n",
    "max channel=2300\n",
    "min time=500\n",
    "max time=910\n",
    "min map ch=500\n",
    "max map ch=910\n",
    "\n",
    "The small gap between the two section can be easily filled by a linear interpolation, which is done in the cells below. One could use u-turns to identify the tracked car, but when mapping one should visualize only a single direction curve (i.e., towards or away from the interrogator unit) before hitting the map channel button.\n",
    "\n",
    "For the purpose of this tutorial, only the first 25 km of the fiber geometry are provided. Thus, one can only map approximately the first 2500 DAS channels."
   ]
  },
  {
   "cell_type": "code",
   "execution_count": 12,
   "id": "technological-grill",
   "metadata": {},
   "outputs": [],
   "source": [
    "taptest = TapTestWdgts.taptestwdgt(dataTap, dt, dCh, gps_time, fiber_dist_vehicle, \n",
    "                                   fiber_lat[close_ch], fiber_lon[close_ch], ot)\n",
    "# This is the CSV filename in which the channel positions will be saved, see cells below; it can be also\n",
    "# be used to load temporary results while calibrating the channel locations\n",
    "filename = \"\" "
   ]
  },
  {
   "cell_type": "markdown",
   "id": "3abf614e",
   "metadata": {},
   "source": [
    "Run the next code block to start the interactive tool."
   ]
  },
  {
   "cell_type": "code",
   "execution_count": 13,
   "id": "bright-browser",
   "metadata": {
    "scrolled": false
   },
   "outputs": [
    {
     "data": {
      "application/vnd.jupyter.widget-view+json": {
       "model_id": "bbad03f13d5d432e9561928ea944cac6",
       "version_major": 2,
       "version_minor": 0
      },
      "text/plain": [
       "taptestwdgt(children=(Output(outputs=({'output_type': 'display_data', 'data': {'text/plain': \"Canvas(toolbar=T…"
      ]
     },
     "metadata": {},
     "output_type": "display_data"
    }
   ],
   "source": [
    "# The if statement is useful to reload temporary results in case of errors during the calibration\n",
    "# Recopy the bad channel list and uncheck the bad channel toggle button\n",
    "# The plot will show the temporary progress if it was saved on file\n",
    "if os.path.isfile(filename):\n",
    "    ch_db = pd.read_csv(filename)\n",
    "    taptest.mapped_channels = ch_db[ch_db[\"status\"] == \"good\"][\"channel\"].astype(int).to_numpy()\n",
    "    taptest.mapped_lat = ch_db[ch_db[\"status\"] == \"good\"][\"latitude\"].astype(float).to_numpy()\n",
    "    taptest.mapped_lon = ch_db[ch_db[\"status\"] == \"good\"][\"longitude\"].astype(float).to_numpy()\n",
    "taptest"
   ]
  },
  {
   "cell_type": "markdown",
   "id": "formed-northern",
   "metadata": {},
   "source": [
    "This is how one can save the tap test results into a csv file."
   ]
  },
  {
   "cell_type": "code",
   "execution_count": null,
   "id": "comparable-coordinate",
   "metadata": {},
   "outputs": [],
   "source": [
    "bad_ch = np.copy(taptest.bad_channels)\n",
    "mapped_ch = np.copy(taptest.mapped_channels)\n",
    "mapped_lat = np.copy(taptest.mapped_lat)\n",
    "mapped_lon = np.copy(taptest.mapped_lon)\n",
    "df_ch = pd.DataFrame(columns = ['channel', 'status', 'latitude', 'longitude', 'elevation'])\n",
    "nCh = dataTap.shape[0]\n",
    "for ich in range(nCh):\n",
    "    if ich in mapped_ch:\n",
    "        idx = np.argwhere(mapped_ch == ich)[0]\n",
    "        df_ch.loc[str(ich)] = [ich, \"good\", mapped_lat[idx][0],  mapped_lon[idx][0],  np.nan]\n",
    "    if ich in bad_ch:\n",
    "        idx = np.argwhere(bad_ch == ich)[0]\n",
    "        df_ch.loc[str(ich)] = [ich, \"bad\", np.nan, np.nan, np.nan]\n",
    "df_ch.to_csv(filename, index=None, sep=',', mode='w')"
   ]
  },
  {
   "cell_type": "markdown",
   "id": "1dd2827f",
   "metadata": {},
   "source": [
    "#### Interpolating and mapping to closest fiber locations"
   ]
  },
  {
   "cell_type": "markdown",
   "id": "finnish-purple",
   "metadata": {},
   "source": [
    "Once all the certain channels have been located, we can interpolate the uncertain ones (i.e., the ones with no clear vehicle signal). This step allows us to geolocate channels that could not be reached by the car signal. In our case, most of the channels could be excited by the car-related deformation, so the interpolated channels are within an accuracy of approximately 5 m."
   ]
  },
  {
   "cell_type": "code",
   "execution_count": null,
   "id": "37056609",
   "metadata": {},
   "outputs": [],
   "source": [
    "# close_ch = TapTestWdgts.find_close_ch(mapped_lat,mapped_lon,fiber_lat,fiber_lon)\n",
    "# fiber_dist_taptest = fiber_dist[close_ch]\n",
    "# # Interpolating \"uncertain\" channels using fiber distance\n",
    "# mask_tmp = np.ones(dataTap.shape[0], dtype=bool)\n",
    "# mask_tmp[bad_ch] = False\n",
    "# channel_good = np.where(mask_tmp)[0] # indices of good channels\n",
    "# ChAxGood = np.arange(channel_good.shape[0])\n",
    "# # Mask of the mapped good channels\n",
    "# mask_tmp = np.zeros(channel_good.shape[0], dtype=bool)\n",
    "# for ich in mapped_ch:\n",
    "#     mask_tmp[np.argwhere(channel_good==ich)[0]] = True\n",
    "# # Interpolating missing good channels\n",
    "# f_dist = interp1d(np.where(mask_tmp)[0],fiber_dist_taptest, kind='linear', bounds_error=False)\n",
    "# mapped_dist_int = f_dist(ChAxGood)\n",
    "# f_lat = interp1d(fiber_dist,fiber_lat, kind='linear', bounds_error=False)\n",
    "# mapped_lat_int = f_lat(mapped_dist_int)\n",
    "# f_lon = interp1d(fiber_dist,fiber_lon, kind='linear', bounds_error=False)\n",
    "# mapped_lon_int = f_lon(mapped_dist_int)"
   ]
  },
  {
   "cell_type": "code",
   "execution_count": null,
   "id": "sophisticated-twenty",
   "metadata": {},
   "outputs": [],
   "source": [
    "# Interpolating \"uncertain\" channels\n",
    "mask_tmp = np.ones(dataTap.shape[0], dtype=bool)\n",
    "mask_tmp[bad_ch] = False\n",
    "channel_good = np.where(mask_tmp)[0] # indices of good channels\n",
    "ChAxGood = np.arange(channel_good.shape[0])\n",
    "# Mask of the mapped good channels\n",
    "mask_tmp = np.zeros(channel_good.shape[0], dtype=bool)\n",
    "for ich in mapped_ch:\n",
    "    mask_tmp[np.argwhere(channel_good==ich)[0]] = True\n",
    "# Interpolating missing good channels\n",
    "f_lat = interp1d(np.where(mask_tmp)[0],mapped_lat, kind='linear', bounds_error=False)\n",
    "mapped_lat_int = f_lat(ChAxGood)\n",
    "f_lon = interp1d(np.where(mask_tmp)[0],mapped_lon, kind='linear', bounds_error=False)\n",
    "mapped_lon_int = f_lon(ChAxGood)"
   ]
  },
  {
   "cell_type": "markdown",
   "id": "3a68108b",
   "metadata": {},
   "source": [
    "Let's visualize the mapped and interpolated channels."
   ]
  },
  {
   "cell_type": "code",
   "execution_count": null,
   "id": "0a14c462",
   "metadata": {},
   "outputs": [],
   "source": [
    "fig, ax = plt.subplots(figsize=(10,10))\n",
    "ax.plot(fiber_lon,fiber_lat,\"bo\",label=\"Fiber geometry\")\n",
    "ax.plot(mapped_lon_int,mapped_lat_int,\"go\",label=\"Mapped channels\")\n",
    "ax.set_xlabel(\"Longitude [deg]\")\n",
    "ax.set_ylabel(\"Latitude [deg]\")\n",
    "ax.legend()\n",
    "ax.grid()"
   ]
  },
  {
   "cell_type": "markdown",
   "id": "ed855ec5",
   "metadata": {},
   "source": [
    "We can map this channels onto the more accurate fiber location with the following cell."
   ]
  },
  {
   "cell_type": "code",
   "execution_count": null,
   "id": "3fda716e",
   "metadata": {},
   "outputs": [],
   "source": [
    "# Projecting calibrated and interpolated positions onto fiber geometry\n",
    "maskNan = np.argwhere(~np.isnan(mapped_lat_int))[:,0]\n",
    "close_ch = TapTestWdgts.find_close_ch(mapped_lat_int[maskNan],mapped_lon_int[maskNan],fiber_lat,fiber_lon)\n",
    "mapped_lat_int[maskNan] = fiber_lat[close_ch]\n",
    "mapped_lon_int[maskNan] = fiber_lon[close_ch]"
   ]
  },
  {
   "cell_type": "code",
   "execution_count": null,
   "id": "c1560355",
   "metadata": {},
   "outputs": [],
   "source": [
    "fig, ax = plt.subplots(figsize=(10,10))\n",
    "ax.plot(fiber_lon,fiber_lat,\"bo\",label=\"Fiber geometry\")\n",
    "ax.plot(mapped_lon_int,mapped_lat_int,\"go\",label=\"Re-Mapped channels\")\n",
    "ax.set_xlabel(\"Longitude [deg]\")\n",
    "ax.set_ylabel(\"Latitude [deg]\")\n",
    "ax.legend()\n",
    "ax.grid()"
   ]
  },
  {
   "cell_type": "markdown",
   "id": "3ceed6d9",
   "metadata": {},
   "source": [
    "### Getting channel elevations and writing to final output file"
   ]
  },
  {
   "cell_type": "markdown",
   "id": "930eeff0",
   "metadata": {},
   "source": [
    "Finally, we can get the elevation of each channel, verify the tap-test results, and then write the final result onto a file."
   ]
  },
  {
   "cell_type": "code",
   "execution_count": null,
   "id": "fca50961",
   "metadata": {},
   "outputs": [],
   "source": [
    "# Getting elevation of each channel from USGS query form (this might take some time)\n",
    "mapped_ele_int = np.zeros_like(mapped_lat_int)\n",
    "for idx in tqdm(maskNan):\n",
    "    mapped_ele_int[idx] = TapTestWdgts.elevation_function(mapped_lat_int[idx],mapped_lon_int[idx])"
   ]
  },
  {
   "cell_type": "markdown",
   "id": "capable-newfoundland",
   "metadata": {},
   "source": [
    "Now, let's verify if the calibration process provided accurate channel positions by mapping the car GPS points to the closest mapped channel."
   ]
  },
  {
   "cell_type": "code",
   "execution_count": null,
   "id": "supposed-catholic",
   "metadata": {},
   "outputs": [],
   "source": [
    "close_ch = TapTestWdgts.find_close_ch(gps_lat, gps_lon, mapped_lat_int[maskNan], mapped_lon_int[maskNan]) + maskNan[0]\n",
    "close_gps_time = [tm.timestamp() - ot.timestamp() for tm in gps_time]"
   ]
  },
  {
   "cell_type": "code",
   "execution_count": null,
   "id": "honest-canyon",
   "metadata": {},
   "outputs": [],
   "source": [
    "fig, ax = plt.subplots(figsize=(10,5))\n",
    "mask_tmp = np.ones(dataTap.shape[0], dtype=bool)\n",
    "mask_tmp[bad_ch] = False\n",
    "env = np.abs(hilbert(dataTap[mask_tmp,:]))\n",
    "env /= env.max()\n",
    "clipVal = np.percentile(np.absolute(env[:,:]), 97)\n",
    "im = plt.imshow(env.T, extent=[ChAxGood[0], ChAxGood[-1], (env.shape[1]-1)*dt, 0.0],\n",
    "           aspect='auto', vmin=0.0, vmax=clipVal, cmap=plt.get_cmap('jet'))\n",
    "plt.plot(close_ch, close_gps_time, \"r--\", lw=3, alpha=0.5)\n",
    "plt.ylabel(\"Time [s]\")\n",
    "plt.xlabel(\"Channel number\")\n",
    "plt.grid()\n",
    "plt.ylim([(env.shape[1]-1)*dt, 0.0])\n",
    "plt.gca().invert_yaxis()\n",
    "# Colorbar\n",
    "divider = make_axes_locatable(ax)\n",
    "cax = divider.append_axes(\"right\", size=\"1%\", pad=0.5)\n",
    "cbar = plt.colorbar(im, orientation=\"vertical\", cax=cax)\n",
    "cbar.set_label('Amplitude @ 0.25-2.0 Hz')"
   ]
  },
  {
   "cell_type": "markdown",
   "id": "juvenile-driver",
   "metadata": {},
   "source": [
    "And finally save the end result into a file."
   ]
  },
  {
   "cell_type": "code",
   "execution_count": null,
   "id": "systematic-guess",
   "metadata": {},
   "outputs": [],
   "source": [
    "filenameFinal=\"\"\n",
    "df_ch = pd.DataFrame(columns = ['channel', 'status', 'latitude', 'longitude', 'elevation'])\n",
    "for ich in range(nCh):\n",
    "    if ich in channel_good:\n",
    "        idx = np.argwhere(channel_good == ich)[0]\n",
    "        df_ch.loc[str(ich)] = [ich, \"good\", mapped_lat_int[idx][0],  mapped_lon_int[idx][0],  mapped_ele_int[idx][0]]\n",
    "    if ich in bad_ch:\n",
    "        idx = np.argwhere(bad_ch == ich)[0]\n",
    "        df_ch.loc[str(ich)] = [ich, \"bad\", np.nan, np.nan, np.nan]\n",
    "df_ch.to_csv(filenameFinal, index=None, sep=',', mode='w')"
   ]
  }
 ],
 "metadata": {
  "kernelspec": {
   "display_name": "Python 3 (ipykernel)",
   "language": "python",
   "name": "python3"
  },
  "language_info": {
   "codemirror_mode": {
    "name": "ipython",
    "version": 3
   },
   "file_extension": ".py",
   "mimetype": "text/x-python",
   "name": "python",
   "nbconvert_exporter": "python",
   "pygments_lexer": "ipython3",
   "version": "3.9.1"
  }
 },
 "nbformat": 4,
 "nbformat_minor": 5
}
